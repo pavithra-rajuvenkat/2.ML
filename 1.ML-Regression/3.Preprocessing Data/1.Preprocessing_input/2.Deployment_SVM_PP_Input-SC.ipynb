{
 "cells": [
  {
   "cell_type": "code",
   "execution_count": null,
   "id": "34ed95fa-3cbb-4e5a-a4ec-787a3901d344",
   "metadata": {},
   "outputs": [],
   "source": [
    "import pickle\n",
    "import pandas as pd"
   ]
  },
  {
   "cell_type": "code",
   "execution_count": null,
   "id": "ec0f98cf-d41d-416f-b6e6-735e0db8d26d",
   "metadata": {},
   "outputs": [],
   "source": [
    "dataset= pd.read_csv(\"50_Startups.csv\")\n",
    "dataset = pd.get_dummies(dataset, dtype=int,drop_first=True)\n",
    "independent=dataset[['R&D Spend', 'Administration', 'Marketing Spend', 'State_Florida', 'State_New York']]\n",
    "dependent=dataset[[\"Profit\"]]\n",
    "from sklearn.model_selection import train_test_split\n",
    "x_train,x_test,y_train,y_test=train_test_split(independent,dependent,test_size=0.30,random_state=0)\n",
    "x_train,x_test,y_train,y_test"
   ]
  },
  {
   "cell_type": "code",
   "execution_count": null,
   "id": "a87ad0ce-750e-4054-b864-c462997ce66e",
   "metadata": {},
   "outputs": [],
   "source": [
    "from sklearn.preprocessing import StandardScaler\n",
    "sc=StandardScaler()\n",
    "x_train=sc.fit_transform(x_train)\n",
    "x_test=sc.transform(x_test)"
   ]
  },
  {
   "cell_type": "code",
   "execution_count": 5,
   "id": "34656954-d527-47af-be39-aff52063cd76",
   "metadata": {},
   "outputs": [],
   "source": [
    "import pickle\n",
    "import numpy as ny"
   ]
  },
  {
   "cell_type": "code",
   "execution_count": 6,
   "id": "cebb5f1a-3d6d-4801-8a68-d9ba9eca9fb2",
   "metadata": {},
   "outputs": [],
   "source": [
    "sc=pickle.load(open(\"fit_mean.csv\",\"rb\"))"
   ]
  },
  {
   "cell_type": "code",
   "execution_count": null,
   "id": "3c09b895-b0f0-4135-a16c-9184bd09fb77",
   "metadata": {},
   "outputs": [],
   "source": []
  },
  {
   "cell_type": "code",
   "execution_count": 7,
   "id": "9c6d2859-4c91-4f7e-a7b9-3c53eba9f861",
   "metadata": {},
   "outputs": [
    {
     "ename": "AttributeError",
     "evalue": "'numpy.ndarray' object has no attribute 'transform'",
     "output_type": "error",
     "traceback": [
      "\u001b[1;31m---------------------------------------------------------------------------\u001b[0m",
      "\u001b[1;31mAttributeError\u001b[0m                            Traceback (most recent call last)",
      "Cell \u001b[1;32mIn[7], line 1\u001b[0m\n\u001b[1;32m----> 1\u001b[0m preinput\u001b[38;5;241m=\u001b[39msc\u001b[38;5;241m.\u001b[39mtransform([[\u001b[38;5;241m12345\u001b[39m,\u001b[38;5;241m23456\u001b[39m,\u001b[38;5;241m34567\u001b[39m,\u001b[38;5;241m0\u001b[39m,\u001b[38;5;241m1\u001b[39m]])\n\u001b[0;32m      2\u001b[0m preinput\n",
      "\u001b[1;31mAttributeError\u001b[0m: 'numpy.ndarray' object has no attribute 'transform'"
     ]
    }
   ],
   "source": [
    "preinput=sc.transform([[12345,23456,34567,0,1]])\n",
    "preinput"
   ]
  },
  {
   "cell_type": "code",
   "execution_count": null,
   "id": "016f4707-face-4266-afbe-9324b1b32a04",
   "metadata": {},
   "outputs": [],
   "source": [
    "load_model=pickle.load(open(\"Preprocessing_check.sav\",\"rb\"))\n",
    "result=load_model.predict(preinput)"
   ]
  },
  {
   "cell_type": "code",
   "execution_count": null,
   "id": "49871f2f-749a-4f55-9987-cf4369cdc7bf",
   "metadata": {},
   "outputs": [],
   "source": [
    "result"
   ]
  },
  {
   "cell_type": "code",
   "execution_count": null,
   "id": "5a1326df-15fa-4a88-8038-67f0cc490edb",
   "metadata": {},
   "outputs": [],
   "source": []
  }
 ],
 "metadata": {
  "kernelspec": {
   "display_name": "Python 3 (ipykernel)",
   "language": "python",
   "name": "python3"
  },
  "language_info": {
   "codemirror_mode": {
    "name": "ipython",
    "version": 3
   },
   "file_extension": ".py",
   "mimetype": "text/x-python",
   "name": "python",
   "nbconvert_exporter": "python",
   "pygments_lexer": "ipython3",
   "version": "3.12.7"
  }
 },
 "nbformat": 4,
 "nbformat_minor": 5
}
